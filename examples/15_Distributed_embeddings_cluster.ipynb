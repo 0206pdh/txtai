{
  "nbformat": 4,
  "nbformat_minor": 0,
  "metadata": {
    "colab": {
      "name": "15 - Distributed embeddings cluster",
      "provenance": [],
      "collapsed_sections": []
    },
    "kernelspec": {
      "name": "python3",
      "display_name": "Python 3"
    }
  },
  "cells": [
    {
      "cell_type": "markdown",
      "metadata": {
        "id": "4Pjmz-RORV8E"
      },
      "source": [
        "# Distributed embeddings cluster\n",
        "\n",
        "The txtai API is a web-based service backed by [FastAPI](https://fastapi.tiangolo.com/). All txtai functionality is available via the API. The API can also cluster multiple embeddings indices into a single logical index to horizontally scale over multiple nodes. \n",
        "\n",
        "This notebook installs the txtai API and shows an example of building an embeddings cluster."
      ]
    },
    {
      "cell_type": "markdown",
      "metadata": {
        "id": "Dk31rbYjSTYm"
      },
      "source": [
        "# Install dependencies\n",
        "\n",
        "Install `txtai` and all dependencies. Since this notebook uses the API, we need to install the api extras package."
      ]
    },
    {
      "cell_type": "code",
      "metadata": {
        "id": "XMQuuun2R06J"
      },
      "source": [
        "%%capture\n",
        "!pip install git+https://github.com/neuml/txtai#egg=txtai[api]"
      ],
      "execution_count": null,
      "outputs": []
    },
    {
      "cell_type": "markdown",
      "metadata": {
        "id": "PNPJ95cdTKSS"
      },
      "source": [
        "# Start distributed embeddings cluster\n",
        "\n",
        "First we'll start multiple API instances that will serve as embeddings index shards. Each shard stores a subset of the indexed data and these shards work in tandem to form a single logical index.\n",
        "\n",
        "Then we'll start the main API instance that clusters the shards together into a logical instance.\n",
        "\n",
        "The API instances are all started in the background.\n"
      ]
    },
    {
      "cell_type": "code",
      "metadata": {
        "id": "USb4JXZHxqTA"
      },
      "source": [
        "import os\n",
        "os.chdir(\"/content\")"
      ],
      "execution_count": null,
      "outputs": []
    },
    {
      "cell_type": "code",
      "metadata": {
        "id": "nTDwXOUeTH2-",
        "colab": {
          "base_uri": "https://localhost:8080/"
        },
        "outputId": "e558af81-3e1b-4ab9-d8ee-d69acca8a85a"
      },
      "source": [
        "%%writefile index.yml\n",
        "writable: true\n",
        "\n",
        "# Embeddings settings\n",
        "embeddings:\n",
        "    path: sentence-transformers/nli-mpnet-base-v2"
      ],
      "execution_count": null,
      "outputs": [
        {
          "output_type": "stream",
          "text": [
            "Writing index.yml\n"
          ],
          "name": "stdout"
        }
      ]
    },
    {
      "cell_type": "code",
      "metadata": {
        "colab": {
          "base_uri": "https://localhost:8080/"
        },
        "id": "iCdBh-JgfyBl",
        "outputId": "a829793a-9223-40f8-d1d2-286fbbc4f341"
      },
      "source": [
        "%%writefile cluster.yml\n",
        "# Embeddings cluster\n",
        "cluster:\n",
        "    shards:\n",
        "        - http://127.0.0.1:8001\n",
        "        - http://127.0.0.1:8002"
      ],
      "execution_count": null,
      "outputs": [
        {
          "output_type": "stream",
          "text": [
            "Writing cluster.yml\n"
          ],
          "name": "stdout"
        }
      ]
    },
    {
      "cell_type": "code",
      "metadata": {
        "id": "nGITHxUyRzyp"
      },
      "source": [
        "# Start embeddings shards\n",
        "!CONFIG=index.yml nohup uvicorn --port 8001 \"txtai.api:app\" &> shard-1.log &\n",
        "!CONFIG=index.yml nohup uvicorn --port 8002 \"txtai.api:app\" &> shard-2.log &\n",
        "\n",
        "# Start main instance\n",
        "!CONFIG=cluster.yml nohup uvicorn --port 8000 \"txtai.api:app\" &> main.log &\n",
        "\n",
        "# Wait for startup\n",
        "!sleep 90"
      ],
      "execution_count": null,
      "outputs": []
    },
    {
      "cell_type": "markdown",
      "metadata": {
        "id": "lxkbVng3giWP"
      },
      "source": [
        "# Python\n",
        "\n",
        "Let's first try the cluster out directly in Python. The code below aggregates the two shards into a single cluster and executes actions against the cluster."
      ]
    },
    {
      "cell_type": "code",
      "metadata": {
        "colab": {
          "base_uri": "https://localhost:8080/"
        },
        "id": "36HGAokoglfg",
        "outputId": "38c551dd-a51a-4093-e0d3-a733c11fc531"
      },
      "source": [
        "%%writefile run.py\n",
        "from txtai.api import Cluster\n",
        "\n",
        "cluster = Cluster({\"shards\": [\"http://127.0.0.1:8001\", \"http://127.0.0.1:8002\"]})\n",
        "\n",
        "data = [\n",
        "    \"US tops 5 million confirmed virus cases\",\n",
        "    \"Canada's last fully intact ice shelf has suddenly collapsed, forming a Manhattan-sized iceberg\",\n",
        "    \"Beijing mobilises invasion craft along coast as Taiwan tensions escalate\",\n",
        "    \"The National Park Service warns against sacrificing slower friends in a bear attack\",\n",
        "    \"Maine man wins $1M from $25 lottery ticket\",\n",
        "    \"Make huge profits without work, earn up to $100,000 a day\",\n",
        "]\n",
        "\n",
        "# Index data\n",
        "cluster.add([{\"id\": x, \"text\": row} for x, row in enumerate(data)])\n",
        "cluster.index()\n",
        "\n",
        "# Test search\n",
        "uid = cluster.search(\"feel good story\", 1)[0][\"id\"]\n",
        "print(\"Query: feel good story\\nResult:\", data[uid])"
      ],
      "execution_count": null,
      "outputs": [
        {
          "output_type": "stream",
          "text": [
            "Writing run.py\n"
          ],
          "name": "stdout"
        }
      ]
    },
    {
      "cell_type": "code",
      "metadata": {
        "colab": {
          "base_uri": "https://localhost:8080/"
        },
        "id": "6dQOzcfEs2Pk",
        "outputId": "1a75935d-a8fc-4c32-c450-4bc826681f8f"
      },
      "source": [
        "!python run.py"
      ],
      "execution_count": null,
      "outputs": [
        {
          "output_type": "stream",
          "text": [
            "Query: feel good story\n",
            "Result: Maine man wins $1M from $25 lottery ticket\n"
          ],
          "name": "stdout"
        }
      ]
    },
    {
      "cell_type": "markdown",
      "metadata": {
        "id": "NHvBFZeSd9AG"
      },
      "source": [
        "# JavaScript\n",
        "\n",
        "Next let's try to run the same code above via the API using JavaScript.\n",
        "\n",
        "```bash\n",
        "npm install txtai\n",
        "```\n",
        "\n",
        "For this example, we'll clone the txtai.js project to import the example build configuration."
      ]
    },
    {
      "cell_type": "code",
      "metadata": {
        "id": "b52knObEdcCr"
      },
      "source": [
        "%%capture\n",
        "!git clone https://github.com/neuml/txtai.js"
      ],
      "execution_count": null,
      "outputs": []
    },
    {
      "cell_type": "markdown",
      "metadata": {
        "id": "rUGS0t-JMsS9"
      },
      "source": [
        "## Run cluster.js\n",
        "\n",
        "The following script is a JavaScript version of the logic above"
      ]
    },
    {
      "cell_type": "code",
      "metadata": {
        "colab": {
          "base_uri": "https://localhost:8080/"
        },
        "id": "bPQ40_xRyFmA",
        "outputId": "7f857818-9d33-425b-d530-24d1ca81d238"
      },
      "source": [
        "%%writefile txtai.js/examples/node/src/cluster.js\n",
        "import {Embeddings} from \"txtai\";\n",
        "import {sprintf} from \"sprintf-js\";\n",
        "\n",
        "const run = async () => {\n",
        "    try {\n",
        "        let embeddings = new Embeddings(process.argv[2]);\n",
        "\n",
        "        let data  = [\"US tops 5 million confirmed virus cases\",\n",
        "                     \"Canada's last fully intact ice shelf has suddenly collapsed, forming a Manhattan-sized iceberg\",\n",
        "                     \"Beijing mobilises invasion craft along coast as Taiwan tensions escalate\",\n",
        "                     \"The National Park Service warns against sacrificing slower friends in a bear attack\",\n",
        "                     \"Maine man wins $1M from $25 lottery ticket\",\n",
        "                     \"Make huge profits without work, earn up to $100,000 a day\"];\n",
        "\n",
        "        console.log();\n",
        "        console.log(\"Querying an Embeddings cluster\");\n",
        "        console.log(sprintf(\"%-20s %s\", \"Query\", \"Best Match\"));\n",
        "        console.log(\"-\".repeat(50));\n",
        "\n",
        "        for (let query of [\"feel good story\", \"climate change\", \"public health story\", \"war\", \"wildlife\", \"asia\", \"lucky\", \"dishonest junk\"]) {\n",
        "            let results = await embeddings.search(query, 1);\n",
        "            let uid = results[0].id;\n",
        "            console.log(sprintf(\"%-20s %s\", query, data[uid]))\n",
        "        }\n",
        "    }\n",
        "    catch (e) {\n",
        "        console.trace(e);\n",
        "    }\n",
        "};\n",
        "\n",
        "run();"
      ],
      "execution_count": null,
      "outputs": [
        {
          "output_type": "stream",
          "text": [
            "Writing txtai.js/examples/node/src/cluster.js\n"
          ],
          "name": "stdout"
        }
      ]
    },
    {
      "cell_type": "markdown",
      "metadata": {
        "id": "nTBs11j-GtD-"
      },
      "source": [
        "## Build and run cluster.js\n",
        "\n",
        "\n",
        "\n"
      ]
    },
    {
      "cell_type": "code",
      "metadata": {
        "id": "kC5Oub6wa1nK"
      },
      "source": [
        "%%capture\n",
        "os.chdir(\"txtai.js/examples/node\")\n",
        "!npm install\n",
        "!npm run build"
      ],
      "execution_count": null,
      "outputs": []
    },
    {
      "cell_type": "markdown",
      "metadata": {
        "id": "Xr5IlvqH8W77"
      },
      "source": [
        "Next lets run the code against the main cluster URL"
      ]
    },
    {
      "cell_type": "code",
      "metadata": {
        "colab": {
          "base_uri": "https://localhost:8080/"
        },
        "id": "ckOHNqyaeL-B",
        "outputId": "4b985d2c-bf32-4ba4-bc2a-b21c80892c51"
      },
      "source": [
        "!node dist/cluster.js http://127.0.0.1:8000"
      ],
      "execution_count": null,
      "outputs": [
        {
          "output_type": "stream",
          "text": [
            "\n",
            "Querying an Embeddings cluster\n",
            "Query                Best Match\n",
            "--------------------------------------------------\n",
            "feel good story      Maine man wins $1M from $25 lottery ticket\n",
            "climate change       Canada's last fully intact ice shelf has suddenly collapsed, forming a Manhattan-sized iceberg\n",
            "public health story  US tops 5 million confirmed virus cases\n",
            "war                  Beijing mobilises invasion craft along coast as Taiwan tensions escalate\n",
            "wildlife             The National Park Service warns against sacrificing slower friends in a bear attack\n",
            "asia                 Beijing mobilises invasion craft along coast as Taiwan tensions escalate\n",
            "lucky                Maine man wins $1M from $25 lottery ticket\n",
            "dishonest junk       Make huge profits without work, earn up to $100,000 a day\n"
          ],
          "name": "stdout"
        }
      ]
    },
    {
      "cell_type": "markdown",
      "metadata": {
        "id": "1yukBIMYG5OE"
      },
      "source": [
        "The JavaScript program is showing the same results as the Python code above. This is running a clustered query against both nodes in the cluster and aggregating the results together.\n",
        "\n",
        "Queries can be run against each individual shard to see what the queries independently return."
      ]
    },
    {
      "cell_type": "code",
      "metadata": {
        "colab": {
          "base_uri": "https://localhost:8080/"
        },
        "id": "73rZCo4O4IQR",
        "outputId": "4f5bb213-0ffe-4353-aa43-c60ec3e1c389"
      },
      "source": [
        "!node dist/cluster.js http://127.0.0.1:8001"
      ],
      "execution_count": null,
      "outputs": [
        {
          "output_type": "stream",
          "text": [
            "\n",
            "Querying an Embeddings cluster\n",
            "Query                Best Match\n",
            "--------------------------------------------------\n",
            "feel good story      Maine man wins $1M from $25 lottery ticket\n",
            "climate change       Beijing mobilises invasion craft along coast as Taiwan tensions escalate\n",
            "public health story  US tops 5 million confirmed virus cases\n",
            "war                  Beijing mobilises invasion craft along coast as Taiwan tensions escalate\n",
            "wildlife             Beijing mobilises invasion craft along coast as Taiwan tensions escalate\n",
            "asia                 Beijing mobilises invasion craft along coast as Taiwan tensions escalate\n",
            "lucky                Maine man wins $1M from $25 lottery ticket\n",
            "dishonest junk       US tops 5 million confirmed virus cases\n"
          ],
          "name": "stdout"
        }
      ]
    },
    {
      "cell_type": "code",
      "metadata": {
        "colab": {
          "base_uri": "https://localhost:8080/"
        },
        "id": "ZeVBLJyr4Knr",
        "outputId": "cfb1d31e-72d6-401f-c9f7-8f18aad01070"
      },
      "source": [
        "!node dist/cluster.js http://127.0.0.1:8002"
      ],
      "execution_count": null,
      "outputs": [
        {
          "output_type": "stream",
          "text": [
            "\n",
            "Querying an Embeddings cluster\n",
            "Query                Best Match\n",
            "--------------------------------------------------\n",
            "feel good story      Make huge profits without work, earn up to $100,000 a day\n",
            "climate change       Canada's last fully intact ice shelf has suddenly collapsed, forming a Manhattan-sized iceberg\n",
            "public health story  The National Park Service warns against sacrificing slower friends in a bear attack\n",
            "war                  The National Park Service warns against sacrificing slower friends in a bear attack\n",
            "wildlife             The National Park Service warns against sacrificing slower friends in a bear attack\n",
            "asia                 The National Park Service warns against sacrificing slower friends in a bear attack\n",
            "lucky                The National Park Service warns against sacrificing slower friends in a bear attack\n",
            "dishonest junk       Make huge profits without work, earn up to $100,000 a day\n"
          ],
          "name": "stdout"
        }
      ]
    },
    {
      "cell_type": "markdown",
      "metadata": {
        "id": "J2I_4hmZ8uXs"
      },
      "source": [
        "Note the differences. The section below runs a count against the full cluster and each shard to show the count of records in each."
      ]
    },
    {
      "cell_type": "code",
      "metadata": {
        "colab": {
          "base_uri": "https://localhost:8080/"
        },
        "id": "BKm27yna4MWr",
        "outputId": "e3f24897-b043-461a-b9e3-b63677fa75f7"
      },
      "source": [
        "!curl http://127.0.0.1:8000/count\n",
        "!printf \"\\n\"\n",
        "!curl http://127.0.0.1:8001/count\n",
        "!printf \"\\n\"\n",
        "!curl http://127.0.0.1:8002/count"
      ],
      "execution_count": null,
      "outputs": [
        {
          "output_type": "stream",
          "text": [
            "6\n",
            "3\n",
            "3"
          ],
          "name": "stdout"
        }
      ]
    },
    {
      "cell_type": "markdown",
      "metadata": {
        "id": "6rKj-I0djRQj"
      },
      "source": [
        "This notebook showed how a distributed embeddings cluster can be created with txtai. This example can be further scaled out on Kubernetes with StatefulSets, which will be covered in a future tutorial."
      ]
    }
  ]
}